{
 "cells": [
  {
   "cell_type": "code",
   "execution_count": 215,
   "metadata": {},
   "outputs": [],
   "source": [
    "from decimal import Decimal\n",
    "from math import cos, sin"
   ]
  },
  {
   "cell_type": "code",
   "execution_count": 216,
   "metadata": {},
   "outputs": [],
   "source": [
    "def fmtDec(n):\n",
    "  s = '{:+.8E}'.format(n)\n",
    "  mantisa, exponente = s.split(\"E\")\n",
    "  # exponente = int(exponente)\n",
    "  if (len(exponente[1:]) == 1):\n",
    "    exponente = \"{}0{}\".format(exponente[0], int(exponente))\n",
    "  return \"{}E{}\".format(mantisa, exponente)"
   ]
  },
  {
   "cell_type": "code",
   "execution_count": 217,
   "metadata": {},
   "outputs": [],
   "source": [
    "class Point:\n",
    "    def __init__(self, x, y, z):\n",
    "        self.x = Decimal(x)\n",
    "        self.y = Decimal(y)\n",
    "        self.z = Decimal(z)\n",
    "    def moveX(self, dx):\n",
    "        self.x += dx\n",
    "    def moveY(self, dy):\n",
    "        self.y += dy\n",
    "    def moveZ(self, dz):\n",
    "        self.z += dz\n",
    "    def rotateX(self, angle):\n",
    "        self.y, self.z = self.y * Decimal(cos(angle)) - self.z * Decimal(sin(angle)), self.y * Decimal(sin(angle)) + self.z * Decimal(cos(angle))\n",
    "    def rotateY(self, angle):\n",
    "        self.x, self.z = self.x * Decimal(cos(angle)) + self.z * Decimal(sin(angle)), -self.x * Decimal(sin(angle)) + self.z * Decimal(cos(angle))\n",
    "    def rotateZ(self, angle):\n",
    "        self.x, self.y = self.x * Decimal(cos(angle)) - self.y * Decimal(sin(angle)), self.x * Decimal(sin(angle)) + self.y * Decimal(cos(angle))\n",
    "    def __str__(self):\n",
    "        return '{} {} {}'.format(fmtDec(self.x), fmtDec(self.y), fmtDec(self.z))\n",
    "    "
   ]
  },
  {
   "cell_type": "code",
   "execution_count": 218,
   "metadata": {},
   "outputs": [],
   "source": [
    "def generateMeshFile(_filename,_base, _points):\n",
    "    _n = len(_points)\n",
    "    print(_base)\n",
    "    f = open(_base + \".mdl\", \"w\")\n",
    "    f.write(\"[Name, STRING]\\n\")\n",
    "    f.write(_filename + \"\\n\\n\")\n",
    "    f.write(\"[Normals, ARRAY1<VECTOR3D>]\\n\")\n",
    "    f.write(\"1\\n\")\n",
    "    f.write(\"1 0 0\\n\\n\")\n",
    "    f.write(\"[Vertices, ARRAY1<POINT3D>]\\n\")\n",
    "    f.write(str(_n) + \"\\n\\n\")\n",
    "\n",
    "    for point in _points:\n",
    "        f.write(\" \" + point.__str__() + \"\\n\")\n",
    "    f.write(\"\\n\")\n",
    "    f.write(\"[Triangles, ARRAY1<STRING>]\\n\")\n",
    "    f.write(\"12\\n\\n\")\n",
    "    f.write(\"0 1 5 0 0 0\\n\")\n",
    "    f.write(\"0 5 4 0 0 0\\n\")\n",
    "    f.write(\"1 2 5 0 0 0\\n\")\n",
    "    f.write(\"2 6 5 0 0 0\\n\")\n",
    "    f.write(\"2 3 6 0 0 0\\n\")\n",
    "    f.write(\"3 7 6 0 0 0\\n\")\n",
    "    f.write(\"0 4 3 0 0 0\\n\")\n",
    "    f.write(\"3 4 7 0 0 0\\n\")\n",
    "    f.write(\"4 5 6 0 0 0\\n\")\n",
    "    f.write(\"4 6 7 0 0 0\\n\")\n",
    "    f.write(\"0 2 1 0 0 0\\n\")\n",
    "    f.write(\"0 3 2 0 0 0\\n\")\n",
    "    f.close()\n"
   ]
  },
  {
   "cell_type": "code",
   "execution_count": 219,
   "metadata": {},
   "outputs": [],
   "source": [
    "\n",
    "def generateVTKFile(_base, _points):\n",
    "    _n = len(_points)\n",
    "    ef = open(_base + \".vtk\", \"w\")\n",
    "    ef.write(\"# vtk DataFile Version 2.0\\n\")\n",
    "    ef.write(\"Unstructured Grid cortex_surf_roi\\n\")\n",
    "    ef.write(\"ASCII\\n\\n\")\n",
    "\n",
    "    ef.write(\"DATASET UNSTRUCTURED_GRID\\n\")\n",
    "    ef.write('Points {} float\\n'.format(str(_n)))\n",
    "\n",
    "\n",
    "    for point in _points:\n",
    "        ef.write(point.__str__() + \"\\n\")\n",
    "    ef.write(\"\\n\")\n",
    "    ef.write(\"CELLS 1 9\\n\\n\")\n",
    "\n",
    "    ef.write(\"8 0 1 2 3 4 5 6 7\\n\")\n",
    "\n",
    "    ef.write(\"CELL_TYPES 1\\n\\n\")\n",
    "\n",
    "    ef.write(\"12\\n\")\n",
    "    ef.close()\n"
   ]
  },
  {
   "cell_type": "code",
   "execution_count": 220,
   "metadata": {},
   "outputs": [],
   "source": [
    "points = [\n",
    "    Point(+5.63397080E+01, +5.75897430E+01, +6.65000000E+01), \n",
    "    Point(+5.63397080E+01, +5.75897430E+01, +1.06500000E+02), \n",
    "    Point(+1.33375869E+02, +9.35122950E+01, +1.06500000E+02),\n",
    "    Point(+1.33375869E+02, +9.35122950E+01, +6.65000000E+01),\n",
    "    Point(+3.88484510E+01, +9.50998650E+01, +6.65000000E+01),\n",
    "    Point(+3.88484510E+01, +9.50998650E+01, +1.06500000E+02),\n",
    "    Point(+1.15884612E+02, +1.31022417E+02, +1.06500000E+02),\n",
    "    Point(+1.15884612E+02, +1.31022417E+02, +6.65000000E+01),\n",
    "    ]"
   ]
  },
  {
   "cell_type": "code",
   "execution_count": 221,
   "metadata": {},
   "outputs": [],
   "source": [
    "# transform cortex_surf_roi_2\n",
    "# for p in points:\n",
    "#     p.moveX(Decimal(90.0))\n",
    "#     p.moveY(Decimal(70.0))"
   ]
  },
  {
   "cell_type": "code",
   "execution_count": 222,
   "metadata": {},
   "outputs": [],
   "source": [
    "# transform moai_c1\n",
    "for p in points:\n",
    "    p.moveX(Decimal(-91.0))\n",
    "    p.moveY(Decimal(-80.0))\n",
    "    p.moveZ(Decimal(-80.0))\n",
    "    p.rotateZ(Decimal(53))"
   ]
  },
  {
   "cell_type": "code",
   "execution_count": 223,
   "metadata": {},
   "outputs": [],
   "source": [
    "directory = \"../data/\"\n",
    "file_name = \"moai_surf_roi\""
   ]
  },
  {
   "cell_type": "code",
   "execution_count": 224,
   "metadata": {},
   "outputs": [
    {
     "name": "stdout",
     "output_type": "stream",
     "text": [
      "../data/moai_surf_roi\n"
     ]
    }
   ],
   "source": [
    "base_file = directory + file_name\n",
    "generateMeshFile(file_name, base_file, points)\n",
    "generateVTKFile(base_file, points)"
   ]
  },
  {
   "cell_type": "code",
   "execution_count": null,
   "metadata": {},
   "outputs": [],
   "source": []
  },
  {
   "cell_type": "code",
   "execution_count": null,
   "metadata": {},
   "outputs": [],
   "source": []
  }
 ],
 "metadata": {
  "kernelspec": {
   "display_name": "Python 3",
   "language": "python",
   "name": "python3"
  },
  "language_info": {
   "codemirror_mode": {
    "name": "ipython",
    "version": 3
   },
   "file_extension": ".py",
   "mimetype": "text/x-python",
   "name": "python",
   "nbconvert_exporter": "python",
   "pygments_lexer": "ipython3",
   "version": "3.10.9"
  }
 },
 "nbformat": 4,
 "nbformat_minor": 2
}
